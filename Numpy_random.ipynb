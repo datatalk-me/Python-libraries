{
  "nbformat": 4,
  "nbformat_minor": 0,
  "metadata": {
    "colab": {
      "name": "Numpy random.ipynb",
      "provenance": []
    },
    "kernelspec": {
      "name": "python3",
      "display_name": "Python 3"
    },
    "language_info": {
      "name": "python"
    }
  },
  "cells": [
    {
      "cell_type": "markdown",
      "metadata": {
        "id": "wtK1WKkcY6Iu"
      },
      "source": [
        "**Generate Random Numbers**"
      ]
    },
    {
      "cell_type": "markdown",
      "metadata": {
        "id": "E8OhT_IJYu8G"
      },
      "source": [
        "Numpy offers Random module to work with Random numbers"
      ]
    },
    {
      "cell_type": "code",
      "metadata": {
        "colab": {
          "base_uri": "https://localhost:8080/"
        },
        "id": "28maajVSY2pi",
        "outputId": "06d17247-1491-4a19-f43f-a795708d017e"
      },
      "source": [
        "from numpy import random \n",
        "\n",
        "x = random.randint(100) # generate a random integer from 0 to 100\n",
        "print(x)"
      ],
      "execution_count": 2,
      "outputs": [
        {
          "output_type": "stream",
          "text": [
            "73\n"
          ],
          "name": "stdout"
        }
      ]
    },
    {
      "cell_type": "markdown",
      "metadata": {
        "id": "PpkRltV_ZrZv"
      },
      "source": [
        "**Generate a random float**"
      ]
    },
    {
      "cell_type": "code",
      "metadata": {
        "colab": {
          "base_uri": "https://localhost:8080/"
        },
        "id": "kmz8lojpZPwU",
        "outputId": "0530661b-6d87-4284-ca83-7b16b2b247df"
      },
      "source": [
        "x = random.rand()  # generates a random float from 0 to 1\n",
        "x"
      ],
      "execution_count": 3,
      "outputs": [
        {
          "output_type": "execute_result",
          "data": {
            "text/plain": [
              "0.7879674842031632"
            ]
          },
          "metadata": {
            "tags": []
          },
          "execution_count": 3
        }
      ]
    },
    {
      "cell_type": "code",
      "metadata": {
        "colab": {
          "base_uri": "https://localhost:8080/"
        },
        "id": "lY8GeojzZ2Ag",
        "outputId": "ff085d37-42f0-493d-9120-7c2382a9cf3b"
      },
      "source": [
        "y = random.rand(100) # generates 100 random numbers from 0 to 1.\n",
        "y"
      ],
      "execution_count": 4,
      "outputs": [
        {
          "output_type": "execute_result",
          "data": {
            "text/plain": [
              "array([0.19535217, 0.7878561 , 0.03605128, 0.72785269, 0.82929107,\n",
              "       0.90912925, 0.90493148, 0.142178  , 0.8677247 , 0.92392013,\n",
              "       0.47739939, 0.99470016, 0.38299304, 0.13504566, 0.8709927 ,\n",
              "       0.72464421, 0.76653845, 0.79100521, 0.6360748 , 0.36905793,\n",
              "       0.03860171, 0.01200786, 0.78005866, 0.21489314, 0.45922661,\n",
              "       0.94738268, 0.70124828, 0.33229351, 0.6744349 , 0.20749267,\n",
              "       0.1198681 , 0.26615139, 0.11979538, 0.77528272, 0.75089334,\n",
              "       0.17850631, 0.20417378, 0.9709024 , 0.62667206, 0.22638469,\n",
              "       0.15332447, 0.59557039, 0.75529779, 0.78360155, 0.56292762,\n",
              "       0.90597404, 0.67646424, 0.89438282, 0.90204904, 0.12817697,\n",
              "       0.58685892, 0.43215791, 0.06700343, 0.10497599, 0.82014954,\n",
              "       0.67090034, 0.02063577, 0.26190518, 0.38177761, 0.85971238,\n",
              "       0.54691709, 0.1612062 , 0.68921267, 0.36843566, 0.93694434,\n",
              "       0.62872214, 0.92389131, 0.85399607, 0.40346855, 0.90054206,\n",
              "       0.38770144, 0.18416342, 0.21771821, 0.75031413, 0.4826176 ,\n",
              "       0.49352401, 0.37325767, 0.9439567 , 0.12445141, 0.17382739,\n",
              "       0.8828503 , 0.50064369, 0.43508183, 0.59484564, 0.73740916,\n",
              "       0.98461819, 0.69397363, 0.07361401, 0.57718243, 0.02975788,\n",
              "       0.00954827, 0.24790517, 0.16987645, 0.12485818, 0.35598724,\n",
              "       0.5629429 , 0.66450264, 0.27223997, 0.24713524, 0.21196207])"
            ]
          },
          "metadata": {
            "tags": []
          },
          "execution_count": 4
        }
      ]
    },
    {
      "cell_type": "code",
      "metadata": {
        "colab": {
          "base_uri": "https://localhost:8080/"
        },
        "id": "uS5lGsylaCgM",
        "outputId": "34855cdc-b73e-4f2a-d265-cfdc6ab90ee1"
      },
      "source": [
        "x = random.randint(100,size=5) # Generate a 1-D array containing 5 random integers from 0 to 100:\n",
        "x"
      ],
      "execution_count": 5,
      "outputs": [
        {
          "output_type": "execute_result",
          "data": {
            "text/plain": [
              "array([85, 97, 99,  8, 50])"
            ]
          },
          "metadata": {
            "tags": []
          },
          "execution_count": 5
        }
      ]
    },
    {
      "cell_type": "code",
      "metadata": {
        "colab": {
          "base_uri": "https://localhost:8080/"
        },
        "id": "d9z2IYT3agJu",
        "outputId": "45f7ca7b-87b8-4d42-8406-c2b6a83607eb"
      },
      "source": [
        "x = random.randint(100,size=(2,5)) # Generate a 2-D array with 3 rows, each row containing 5 random integers from 0 to 100:\n",
        "x"
      ],
      "execution_count": 8,
      "outputs": [
        {
          "output_type": "execute_result",
          "data": {
            "text/plain": [
              "array([[60, 47, 49, 24, 64],\n",
              "       [59, 66, 20, 70, 51]])"
            ]
          },
          "metadata": {
            "tags": []
          },
          "execution_count": 8
        }
      ]
    },
    {
      "cell_type": "markdown",
      "metadata": {
        "id": "FIghrNIfbU12"
      },
      "source": [
        "#### **Floats**"
      ]
    },
    {
      "cell_type": "markdown",
      "metadata": {
        "id": "RvM67FYAbjaC"
      },
      "source": [
        "The rand() method also allows you to specify the shape of the array."
      ]
    },
    {
      "cell_type": "code",
      "metadata": {
        "colab": {
          "base_uri": "https://localhost:8080/"
        },
        "id": "RIxNmQ6Ia0sW",
        "outputId": "e9a98410-211a-413b-eb81-b778c965c263"
      },
      "source": [
        "x = random.rand(5)\n",
        "x"
      ],
      "execution_count": 10,
      "outputs": [
        {
          "output_type": "execute_result",
          "data": {
            "text/plain": [
              "array([0.95314575, 0.02103504, 0.34441313, 0.45036556, 0.07700806])"
            ]
          },
          "metadata": {
            "tags": []
          },
          "execution_count": 10
        }
      ]
    },
    {
      "cell_type": "code",
      "metadata": {
        "colab": {
          "base_uri": "https://localhost:8080/"
        },
        "id": "EwaTbWWwbrbh",
        "outputId": "8a0b93e6-6e77-4ccc-fe86-091bd292db0e"
      },
      "source": [
        "x = random.rand(3,5)\n",
        "x"
      ],
      "execution_count": 11,
      "outputs": [
        {
          "output_type": "execute_result",
          "data": {
            "text/plain": [
              "array([[0.28281813, 0.42803989, 0.11290719, 0.77206978, 0.70466065],\n",
              "       [0.16989378, 0.41797912, 0.21763522, 0.40307318, 0.67904147],\n",
              "       [0.54875657, 0.26299577, 0.75079859, 0.97954006, 0.1545937 ]])"
            ]
          },
          "metadata": {
            "tags": []
          },
          "execution_count": 11
        }
      ]
    },
    {
      "cell_type": "markdown",
      "metadata": {
        "id": "7ynH8BUUb-tt"
      },
      "source": [
        "## **Generate Random Number From Array**\n",
        "\n",
        "The **choice()** method allows you to generate a random value based on an array of values.\n",
        "\n",
        "The **choice()** method takes an array as a parameter and randomly returns one of the values."
      ]
    },
    {
      "cell_type": "code",
      "metadata": {
        "colab": {
          "base_uri": "https://localhost:8080/"
        },
        "id": "pXv9TE5Tb2aM",
        "outputId": "f46719c0-64bb-422c-c095-0ba9940153a8"
      },
      "source": [
        "x = random.choice([1,2,3,4,5,6,7,8,9])\n",
        "x"
      ],
      "execution_count": 13,
      "outputs": [
        {
          "output_type": "execute_result",
          "data": {
            "text/plain": [
              "9"
            ]
          },
          "metadata": {
            "tags": []
          },
          "execution_count": 13
        }
      ]
    },
    {
      "cell_type": "markdown",
      "metadata": {
        "id": "d2YCPVh5cmGm"
      },
      "source": [
        "The **choice()** method also allows you to return an array of values.\n",
        "\n",
        "Add a **size** parameter to specify the shape of the array."
      ]
    },
    {
      "cell_type": "code",
      "metadata": {
        "colab": {
          "base_uri": "https://localhost:8080/"
        },
        "id": "0aT9H1KdcYER",
        "outputId": "02877307-b24a-4b1c-e22a-7fdbfb59cafd"
      },
      "source": [
        "x = random.choice([1,2,3,4,5,6,7,8,9],size=(3,5))\n",
        "x"
      ],
      "execution_count": 14,
      "outputs": [
        {
          "output_type": "execute_result",
          "data": {
            "text/plain": [
              "array([[7, 1, 4, 7, 4],\n",
              "       [3, 9, 8, 4, 1],\n",
              "       [1, 5, 4, 6, 9]])"
            ]
          },
          "metadata": {
            "tags": []
          },
          "execution_count": 14
        }
      ]
    },
    {
      "cell_type": "markdown",
      "metadata": {
        "id": "AO331aMVdOGd"
      },
      "source": [
        "**Random Data Distribution**"
      ]
    },
    {
      "cell_type": "markdown",
      "metadata": {
        "id": "4nufbXYNdari"
      },
      "source": [
        "**What is Data Distribution?**\n",
        "\n",
        "Data Distribution is a list of all possible values, and how often each value occurs.\n",
        "\n",
        "Such lists are important when working with statistics and data science.\n",
        "\n",
        "The random module offer methods that returns randomly generated data distributions."
      ]
    },
    {
      "cell_type": "markdown",
      "metadata": {
        "id": "3ptZ8rbidqMW"
      },
      "source": [
        "## **Random Distribution**\n",
        "A random distribution is a set of random numbers that follow a certain probability density function."
      ]
    },
    {
      "cell_type": "markdown",
      "metadata": {
        "id": "SwL03a5ldvyV"
      },
      "source": [
        "**Probability Density Function: A function that describes a continuous probability. i.e. probability of all values in an array.**"
      ]
    },
    {
      "cell_type": "markdown",
      "metadata": {
        "id": "npIEOtEteOdo"
      },
      "source": [
        "We can generate random numbers based on defined probabilities using the choice() method of the random module.\n",
        "\n",
        "The choice() method allows us to specify the probability for each value.\n",
        "\n",
        "The probability is set by a number between 0 and 1, where 0 means that the value will never occur and 1 means that the value will always occur."
      ]
    },
    {
      "cell_type": "markdown",
      "metadata": {
        "id": "t_kUPScceSag"
      },
      "source": [
        "Example\n",
        "Generate a 1-D array containing 100 values, where each value has to be 3, 5, 7 or 9.\n",
        "\n",
        "The probability for the value to be 3 is set to be 0.1\n",
        "\n",
        "The probability for the value to be 5 is set to be 0.3\n",
        "\n",
        "The probability for the value to be 7 is set to be 0.6\n",
        "\n",
        "The probability for the value to be 9 is set to be 0"
      ]
    },
    {
      "cell_type": "code",
      "metadata": {
        "colab": {
          "base_uri": "https://localhost:8080/"
        },
        "id": "ULI98_b3eZMu",
        "outputId": "a0691f53-9f93-4fc3-aa5a-0fcaf7345145"
      },
      "source": [
        "x = random.choice([1,2,3,4],p=[0.6,0.3,0.1,0.0],size =100)\n",
        "x"
      ],
      "execution_count": 15,
      "outputs": [
        {
          "output_type": "execute_result",
          "data": {
            "text/plain": [
              "array([1, 3, 2, 2, 3, 1, 1, 1, 1, 2, 1, 1, 2, 1, 2, 1, 2, 1, 1, 2, 1, 1,\n",
              "       3, 1, 1, 3, 2, 2, 1, 2, 1, 1, 1, 1, 2, 2, 1, 2, 1, 1, 3, 1, 3, 1,\n",
              "       2, 1, 1, 3, 2, 2, 1, 2, 1, 1, 1, 1, 1, 1, 1, 1, 1, 1, 1, 1, 2, 3,\n",
              "       1, 2, 2, 1, 1, 3, 1, 1, 1, 3, 1, 1, 1, 3, 1, 2, 1, 2, 2, 2, 2, 1,\n",
              "       2, 1, 3, 1, 3, 2, 1, 2, 2, 1, 1, 2])"
            ]
          },
          "metadata": {
            "tags": []
          },
          "execution_count": 15
        }
      ]
    },
    {
      "cell_type": "markdown",
      "metadata": {
        "id": "NRhjlDjse4UR"
      },
      "source": [
        "The sum of all probability numbers should be 1."
      ]
    },
    {
      "cell_type": "code",
      "metadata": {
        "colab": {
          "base_uri": "https://localhost:8080/"
        },
        "id": "BtOOQfm6ew2e",
        "outputId": "5301b4ef-c10f-4d91-a323-91e0402cfae1"
      },
      "source": [
        "x = random.choice([1,2,4,9],p=[0.7,0.1,0.1,0.1],size=(4,5))\n",
        "x"
      ],
      "execution_count": 17,
      "outputs": [
        {
          "output_type": "execute_result",
          "data": {
            "text/plain": [
              "array([[1, 1, 1, 1, 4],\n",
              "       [2, 1, 4, 1, 2],\n",
              "       [9, 1, 1, 1, 1],\n",
              "       [1, 1, 1, 1, 4]])"
            ]
          },
          "metadata": {
            "tags": []
          },
          "execution_count": 17
        }
      ]
    },
    {
      "cell_type": "markdown",
      "metadata": {
        "id": "p5CW2FGRfq-G"
      },
      "source": [
        "**Random Permutations of Elements**"
      ]
    },
    {
      "cell_type": "markdown",
      "metadata": {
        "id": "gTLr7yAof8xn"
      },
      "source": [
        "A permutation refers to an arrangement of elements. e.g. [3, 2, 1] is a permutation of [1, 2, 3] and vice-versa.\n",
        "\n",
        "The NumPy Random module provides two methods for this: shuffle() and permutation()."
      ]
    },
    {
      "cell_type": "markdown",
      "metadata": {
        "id": "ZBJezBdif_NL"
      },
      "source": [
        "**Shuffling Arrays**\n",
        "\n",
        "Shuffle means changing arrangement of elements in-place. i.e. in the array itself."
      ]
    },
    {
      "cell_type": "code",
      "metadata": {
        "id": "joonj2MRgS6h"
      },
      "source": [
        "import numpy as np\n",
        "from numpy import random\n",
        "\n",
        "arr = np.array([1,2,3,4,5,6,7])\n",
        "random.shuffle(arr)\n"
      ],
      "execution_count": 18,
      "outputs": []
    },
    {
      "cell_type": "code",
      "metadata": {
        "colab": {
          "base_uri": "https://localhost:8080/"
        },
        "id": "0mEB13Legkxj",
        "outputId": "b863e1ea-1b02-4363-e66c-e1ce46efd04e"
      },
      "source": [
        "print(arr)"
      ],
      "execution_count": 19,
      "outputs": [
        {
          "output_type": "stream",
          "text": [
            "[6 1 2 7 4 3 5]\n"
          ],
          "name": "stdout"
        }
      ]
    },
    {
      "cell_type": "markdown",
      "metadata": {
        "id": "iKC3bz8xg1hc"
      },
      "source": [
        "The shuffle() method makes changes to the original array."
      ]
    },
    {
      "cell_type": "markdown",
      "metadata": {
        "id": "lfeGp277g7H_"
      },
      "source": [
        "**Generating Permutation of Arrays**"
      ]
    },
    {
      "cell_type": "code",
      "metadata": {
        "colab": {
          "base_uri": "https://localhost:8080/"
        },
        "id": "OGJUSdN-g84p",
        "outputId": "6aebaec0-e41a-43a6-a85f-1d2b21599cb7"
      },
      "source": [
        "arr = np.array([1,2,3,4,5,6,7])\n",
        "print(random.permutation(arr))"
      ],
      "execution_count": 21,
      "outputs": [
        {
          "output_type": "stream",
          "text": [
            "[3 6 1 7 4 2 5]\n"
          ],
          "name": "stdout"
        }
      ]
    },
    {
      "cell_type": "code",
      "metadata": {
        "colab": {
          "base_uri": "https://localhost:8080/"
        },
        "id": "yDZlRnSchHP5",
        "outputId": "33f701c4-2d2c-4539-d3bf-87911019977e"
      },
      "source": [
        "arr"
      ],
      "execution_count": 22,
      "outputs": [
        {
          "output_type": "execute_result",
          "data": {
            "text/plain": [
              "array([1, 2, 3, 4, 5, 6, 7])"
            ]
          },
          "metadata": {
            "tags": []
          },
          "execution_count": 22
        }
      ]
    },
    {
      "cell_type": "markdown",
      "metadata": {
        "id": "Hm2otiAdhnus"
      },
      "source": [
        "The permutation() method returns a re-arranged array (and leaves the original array un-changed)."
      ]
    }
  ]
}